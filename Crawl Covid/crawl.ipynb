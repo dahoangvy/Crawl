{
 "cells": [
  {
   "cell_type": "code",
   "execution_count": 84,
   "metadata": {},
   "outputs": [],
   "source": [
    "import requests\n",
    "import pandas as pd"
   ]
  },
  {
   "cell_type": "code",
   "execution_count": 85,
   "metadata": {},
   "outputs": [],
   "source": [
    "url = 'https://static.pipezero.com/covid/data.json'\n",
    "response = requests.get(url)"
   ]
  },
  {
   "cell_type": "code",
   "execution_count": 86,
   "metadata": {},
   "outputs": [],
   "source": [
    "if response.status_code == 200:\n",
    "    json_data = response.json()\n",
    "    locations = json_data['locations']\n",
    "    \n",
    "    names = []\n",
    "    deaths = []\n",
    "    treatings = []\n",
    "    casess = []\n",
    "    recovereds = []\n",
    "    casesTodays = []\n",
    "    for location in locations:\n",
    "        name = location['name']\n",
    "        death = location['death']\n",
    "        treating = location['treating']\n",
    "        cases = location['cases']\n",
    "        recovered = location['recovered']\n",
    "        casesToday = location['casesToday']\n",
    "\n",
    "        names.append(name)\n",
    "        deaths.append(death)\n",
    "        treatings.append(treating)\n",
    "        casess.append(cases)\n",
    "        recovereds.append(recovered)\n",
    "        casesTodays.append(casesToday)\n",
    "    \n",
    " \n",
    "    "
   ]
  },
  {
   "cell_type": "code",
   "execution_count": 91,
   "metadata": {},
   "outputs": [],
   "source": [
    "dict = {'Tỉnh': names,\n",
    "        'Ca tử vong': deaths,\n",
    "        'Điều trị': treatings,\n",
    "        'Số ca': casess,\n",
    "        'Khỏi bệnh': recovereds,\n",
    "        'Số ca hôm nay': casesTodays,}\n",
    "df = pd.DataFrame(dict)\n",
    "df.to_excel('soCaCoVid.xlsx', index=False)"
   ]
  }
 ],
 "metadata": {
  "kernelspec": {
   "display_name": "venv",
   "language": "python",
   "name": "python3"
  },
  "language_info": {
   "codemirror_mode": {
    "name": "ipython",
    "version": 3
   },
   "file_extension": ".py",
   "mimetype": "text/x-python",
   "name": "python",
   "nbconvert_exporter": "python",
   "pygments_lexer": "ipython3",
   "version": "3.10.11"
  },
  "orig_nbformat": 4
 },
 "nbformat": 4,
 "nbformat_minor": 2
}
